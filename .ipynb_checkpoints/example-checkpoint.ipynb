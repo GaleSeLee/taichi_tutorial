{
 "cells": [
  {
   "cell_type": "markdown",
   "id": "8df41997",
   "metadata": {},
   "source": [
    "### Example 0 Vecadd"
   ]
  },
  {
   "cell_type": "code",
   "execution_count": 13,
   "id": "fb55a029",
   "metadata": {},
   "outputs": [
    {
     "name": "stdout",
     "output_type": "stream",
     "text": [
      "[Taichi] Starting on arch=x64\n"
     ]
    }
   ],
   "source": [
    "import taichi as ti\n",
    "ti.init(arch=ti.cpu)\n",
    "\n",
    "input_a = ti.ndarray(dtype=ti.f32, shape=(10000))\n",
    "input_b = ti.ndarray(dtype=ti.f32, shape=(10000))\n",
    "output_c = ti.ndarray(dtype=ti.f32, shape=(10000))\n",
    "\n",
    "@ti.kernel\n",
    "def vecadd(a:ti.types.ndarray(dtype=ti.f32, ndim=1), \\\n",
    "           b:ti.types.ndarray(dtype=ti.f32, ndim=1), \\\n",
    "           c:ti.types.ndarray(dtype=ti.f32, ndim=1)):\n",
    "    for ii in range(10000):\n",
    "        a[ii] = ii\n",
    "        b[ii] = ii\n",
    "        c[ii] = a[ii] + b[ii] + c[ii]\n",
    "\n",
    "\n",
    "vecadd(input_a, input_b, output_c)"
   ]
  },
  {
   "cell_type": "markdown",
   "id": "1dae68ac",
   "metadata": {},
   "source": [
    "### Example 1\n",
    "初识Taichi，使用Taichi筛素数"
   ]
  },
  {
   "cell_type": "code",
   "execution_count": 15,
   "id": "a70f427a",
   "metadata": {
    "scrolled": true
   },
   "outputs": [
    {
     "name": "stdout",
     "output_type": "stream",
     "text": [
      "[Taichi] Starting on arch=x64\n",
      "78498\n",
      "=========================================================================\n",
      "Kernel Profiler(count, default) @ X64 \n",
      "=========================================================================\n",
      "[      %     total   count |      min       avg       max   ] Kernel name\n",
      "-------------------------------------------------------------------------\n",
      "[ 99.96%   0.015 s      1x |   14.851    14.851    14.851 ms] count_primes_c92_0_kernel_2_range_for\n",
      "[  0.04%   0.000 s      1x |    0.006     0.006     0.006 ms] count_primes_c92_0_kernel_0_serial\n",
      "[  0.00%   0.000 s      1x |    0.000     0.000     0.000 ms] count_primes_c92_0_kernel_1_serial\n",
      "-------------------------------------------------------------------------\n",
      "[100.00%] Total execution time:   0.015 s   number of results: 3\n",
      "=========================================================================\n"
     ]
    }
   ],
   "source": [
    "import taichi as ti\n",
    "import time\n",
    "ti.init(arch=ti.cpu, kernel_profiler=True)\n",
    "@ti.func\n",
    "def is_prime(n: int):\n",
    "   result = True\n",
    "   for k in range(2, int(n ** 0.5) + 1):\n",
    "       if n % k == 0:\n",
    "           result = False\n",
    "           break\n",
    "   return result\n",
    "@ti.kernel\n",
    "def count_primes(n: int) -> int:\n",
    "   count = 0\n",
    "   for k in range(2, n):\n",
    "       if is_prime(k):\n",
    "           count += 1\n",
    "   return count\n",
    "#start_time = time.time()\n",
    "print(count_primes(1000000))\n",
    "# Taichi 1000000\n",
    "#    CPU 0.015s\n",
    "#    GPU 0.025s\n",
    "# Python 1000000\n",
    "#    CPU 3.48s\n",
    "#print(time.time()-start_time)\n",
    "ti.profiler.print_kernel_profiler_info()"
   ]
  },
  {
   "cell_type": "markdown",
   "id": "26b0c111",
   "metadata": {},
   "source": [
    "### Example2 AOS vs SOA\n",
    "1. 如果有一些操作只用到属性的子集（比如说x, y, z 而没有 w），那么 SOA 的内存布局可以完全不浪费 w 造成的内存带宽。\n",
    "\n",
    "    注：这里要注意的是 CPU 上的 cacheline 大小是 64B、(NVIDIA) GPU 上是128 B，内存带宽的瓶颈往往是 last-level cache (LLC，比如 CPU 上的 L3 cache、GPU 上的 L2 cache) 到 main memory（也就是内存条）的 bandwidth。LLC 到 main memory 的单位是 cacheline (而不是 byte)。如果一个 cacheline 只用一部分，就会导致 main memory bandwidth 的浪费。在 AOS 的 data layout 下，由于一个粒子的 x, y, z, w 总是在同一个 cacheline 内，没有办法只向 main memory fetch 其中的一部分。后续的会有图片来说明这一点。\n",
    "\n",
    "2. 在 GPU 上，SOA 能够发挥 GPU 硬件的 Coalescing 机制，硬件会把一个 warp （32 个 thread）的数据访问打包成一个 memory transaction，提高效率。类似地，在 CPU 上，SOA 对于 SIMD 模式的编程也更加友好（如 x86 架构下可以使用 _mm_load_ps 等 SIMD intrinsics 对数据进行向量化加载）。\n",
    "\n",
    "3. SOA 的另一个好处是比较容易在运行时给一组数据添加一个 attribute，并且保持访问的高效。本文就不针对这一点展开了。\n",
    "抄自：https://zhuanlan.zhihu.com/p/552884861（强烈推荐大家学习原文章）"
   ]
  },
  {
   "cell_type": "code",
   "execution_count": 10,
   "id": "5e04b126",
   "metadata": {
    "scrolled": true
   },
   "outputs": [
    {
     "name": "stdout",
     "output_type": "stream",
     "text": [
      "[Taichi] Starting on arch=x64\n",
      "=========================================================================\n",
      "Kernel Profiler(count, default) @ X64 \n",
      "=========================================================================\n",
      "[      %     total   count |      min       avg       max   ] Kernel name\n",
      "-------------------------------------------------------------------------\n",
      "[ 92.28%  14.119 s     30x |  466.911   470.618   496.956 ms] assign_all_random_c110_0_kernel_0_range_for\n",
      "[  4.54%   0.695 s     30x |   22.311    23.173    34.396 ms] assign_all_c106_0_kernel_0_range_for\n",
      "[  3.18%   0.486 s     30x |   15.961    16.193    17.635 ms] assign_single_c108_0_kernel_0_range_for\n",
      "-------------------------------------------------------------------------\n",
      "[100.00%] Total execution time:  15.300 s   number of results: 3\n",
      "=========================================================================\n"
     ]
    }
   ],
   "source": [
    "import taichi as ti\n",
    "\n",
    "ti.init(arch=ti.cpu, kernel_profiler=True)\n",
    "\n",
    "n = 64 * 1024 * 1024\n",
    "dim = 4\n",
    "unroll = 8\n",
    "\n",
    "a = ti.Vector.field(dim, dtype=ti.i32, shape=n, \n",
    "                    layout=ti.Layout.SOA)\n",
    "\n",
    "@ti.kernel\n",
    "def assign_all():\n",
    "    for i in range(n):\n",
    "        for k in ti.static(range(dim)):\n",
    "            a[i][k] = i + k\n",
    "            \n",
    "@ti.kernel\n",
    "def assign_single():\n",
    "    for i in range(n):\n",
    "        a[i][0] = i\n",
    "            \n",
    "@ti.kernel\n",
    "def assign_all_random():\n",
    "    for i_ in range(n):\n",
    "        for k in ti.static(range(dim)):\n",
    "            i = (i_ * 10007) & (n - 1) # Random index\n",
    "            a[i][k] = i + k\n",
    "    \n",
    "for repeat in range(30):\n",
    "    assign_all()\n",
    "\n",
    "\n",
    "for repeat in range(30):\n",
    "    assign_single()\n",
    "\n",
    "    \n",
    "for repeat in range(30):\n",
    "    assign_all_random()\n",
    "\n",
    "    \n",
    "ti.profiler.print_kernel_profiler_info()"
   ]
  },
  {
   "cell_type": "markdown",
   "id": "ba6d498c",
   "metadata": {},
   "source": [
    "|  Times(s)   | assign_all  | assign_single | assigen_all_random |\n",
    "|  ----  | ---- | ---- | ---- | \n",
    "| AOS  | 0.68 | 0.61 | 8.37 |\n",
    "| SOA  | 0.70 | 0.48 | 14.37 |"
   ]
  },
  {
   "cell_type": "markdown",
   "id": "9c42e572",
   "metadata": {},
   "source": [
    "1. 不论是何种布局，顺序访问都比随机访问快。\n",
    "2. assign_single任务下，SOA的性能要优于AOS\n",
    "3. 如果你的访问是顺序访问，那么 SOA 通常比 AOS 效率高一些。特别是当你的程序在 GPU 上运行的时候，因为 Coalescing。\n",
    "4. 如果你的访问是随机访问，那么 AOS 常常比 SOA 更好。因为随机访问的一个粒子的数据在 AOS 下是在同一个 cacheline 中，而在 SOA 布局下会分散在 4 个 cachelines 里面，对于 AOS 的 cacheline utilization（缓存行利用率）会高很多。比如在上面的例子中，assign_all_random 在 AOS 布局下就比 SOA 快了近 2 倍。"
   ]
  },
  {
   "cell_type": "markdown",
   "id": "bbee9e83",
   "metadata": {},
   "source": [
    "### Example3 Taichi-Sparse"
   ]
  },
  {
   "cell_type": "code",
   "execution_count": 12,
   "id": "6633afcb",
   "metadata": {
    "scrolled": true
   },
   "outputs": [
    {
     "name": "stdout",
     "output_type": "stream",
     "text": [
      "[Taichi] Starting on arch=x64\n"
     ]
    },
    {
     "ename": "RuntimeError",
     "evalue": "Window close button clicked, exiting... (use `while gui.running` to exit gracefully)",
     "output_type": "error",
     "traceback": [
      "\u001b[0;31m---------------------------------------------------------------------------\u001b[0m",
      "\u001b[0;31mRuntimeError\u001b[0m                              Traceback (most recent call last)",
      "Cell \u001b[0;32mIn[12], line 60\u001b[0m\n\u001b[1;32m     56\u001b[0m         gui\u001b[38;5;241m.\u001b[39mshow()\n\u001b[1;32m     59\u001b[0m \u001b[38;5;28;01mif\u001b[39;00m \u001b[38;5;18m__name__\u001b[39m \u001b[38;5;241m==\u001b[39m \u001b[38;5;124m'\u001b[39m\u001b[38;5;124m__main__\u001b[39m\u001b[38;5;124m'\u001b[39m:\n\u001b[0;32m---> 60\u001b[0m     \u001b[43mmain\u001b[49m\u001b[43m(\u001b[49m\u001b[43m)\u001b[49m\n",
      "Cell \u001b[0;32mIn[12], line 56\u001b[0m, in \u001b[0;36mmain\u001b[0;34m()\u001b[0m\n\u001b[1;32m     54\u001b[0m paint()\n\u001b[1;32m     55\u001b[0m gui\u001b[38;5;241m.\u001b[39mset_image(img)\n\u001b[0;32m---> 56\u001b[0m \u001b[43mgui\u001b[49m\u001b[38;5;241;43m.\u001b[39;49m\u001b[43mshow\u001b[49m\u001b[43m(\u001b[49m\u001b[43m)\u001b[49m\n",
      "File \u001b[0;32m~/opt/anaconda3/envs/taichi/lib/python3.10/site-packages/taichi/ui/gui.py:709\u001b[0m, in \u001b[0;36mGUI.show\u001b[0;34m(self, file)\u001b[0m\n\u001b[1;32m    700\u001b[0m \u001b[38;5;28;01mdef\u001b[39;00m \u001b[38;5;21mshow\u001b[39m(\u001b[38;5;28mself\u001b[39m, file\u001b[38;5;241m=\u001b[39m\u001b[38;5;28;01mNone\u001b[39;00m):\n\u001b[1;32m    701\u001b[0m     \u001b[38;5;124;03m\"\"\"Shows the frame content in the gui window, or save the content to an\u001b[39;00m\n\u001b[1;32m    702\u001b[0m \u001b[38;5;124;03m    image file.\u001b[39;00m\n\u001b[1;32m    703\u001b[0m \n\u001b[0;32m   (...)\u001b[0m\n\u001b[1;32m    707\u001b[0m \u001b[38;5;124;03m            image filename the frame will be saved as the specified image.\u001b[39;00m\n\u001b[1;32m    708\u001b[0m \u001b[38;5;124;03m    \"\"\"\u001b[39;00m\n\u001b[0;32m--> 709\u001b[0m     \u001b[38;5;28;43mself\u001b[39;49m\u001b[38;5;241;43m.\u001b[39;49m\u001b[43mcore\u001b[49m\u001b[38;5;241;43m.\u001b[39;49m\u001b[43mupdate\u001b[49m\u001b[43m(\u001b[49m\u001b[43m)\u001b[49m\n\u001b[1;32m    710\u001b[0m     \u001b[38;5;28;01mif\u001b[39;00m file:\n\u001b[1;32m    711\u001b[0m         \u001b[38;5;28mself\u001b[39m\u001b[38;5;241m.\u001b[39mcore\u001b[38;5;241m.\u001b[39mscreenshot(file)\n",
      "\u001b[0;31mRuntimeError\u001b[0m: Window close button clicked, exiting... (use `while gui.running` to exit gracefully)"
     ]
    }
   ],
   "source": [
    "from taichi.examples.patterns import taichi_logo\n",
    "\n",
    "import taichi as ti\n",
    "\n",
    "ti.init(arch=ti.cpu, offline_cache=False)\n",
    "\n",
    "n = 512\n",
    "x = ti.field(dtype=ti.i32)\n",
    "res = n + n // 4 + n // 16 + n // 64\n",
    "img = ti.field(dtype=ti.f32, shape=(res, res))\n",
    "\n",
    "block1 = ti.root.pointer(ti.ij, n // 64) # 8 times 8 pointers\n",
    "block2 = block1.pointer(ti.ij, 4)\n",
    "block3 = block2.pointer(ti.ij, 4)\n",
    "block3.dense(ti.ij, 4).place(x)\n",
    "\n",
    "\n",
    "@ti.kernel\n",
    "def activate(t: ti.f32):\n",
    "    for i, j in ti.ndrange(n, n):\n",
    "        p = ti.Vector([i, j]) / n\n",
    "        p = ti.math.rotation2d(ti.sin(t)) @ (p - 0.5) + 0.5\n",
    "\n",
    "        if taichi_logo(p) == 0:\n",
    "            x[i, j] = 1\n",
    "\n",
    "\n",
    "@ti.func\n",
    "def scatter(i):\n",
    "    return i + i // 4 + i // 16 + i // 64 + 2\n",
    "\n",
    "\n",
    "@ti.kernel\n",
    "def paint():\n",
    "    for i, j in ti.ndrange(n, n):\n",
    "        t = x[i, j]\n",
    "        block1_index = ti.rescale_index(x, block1, [i, j])\n",
    "        block2_index = ti.rescale_index(x, block2, [i, j])\n",
    "        block3_index = ti.rescale_index(x, block3, [i, j])\n",
    "        t += ti.is_active(block1, block1_index)\n",
    "        t += ti.is_active(block2, block2_index)\n",
    "        t += ti.is_active(block3, block3_index)\n",
    "        img[scatter(i), scatter(j)] = 1 - t / 4\n",
    "\n",
    "\n",
    "def main():\n",
    "    img.fill(0)\n",
    "\n",
    "    gui = ti.GUI('Sparse Grids', (res, res))\n",
    "\n",
    "    for i in range(100000):\n",
    "        block1.deactivate_all()\n",
    "        activate(i * 0.05)\n",
    "        paint()\n",
    "        gui.set_image(img)\n",
    "        gui.show()\n",
    "\n",
    "\n",
    "if __name__ == '__main__':\n",
    "    main()"
   ]
  },
  {
   "cell_type": "code",
   "execution_count": null,
   "id": "955ff802",
   "metadata": {},
   "outputs": [],
   "source": []
  }
 ],
 "metadata": {
  "kernelspec": {
   "display_name": "Python [conda env:taichi]",
   "language": "python",
   "name": "conda-env-taichi-py"
  },
  "language_info": {
   "codemirror_mode": {
    "name": "ipython",
    "version": 3
   },
   "file_extension": ".py",
   "mimetype": "text/x-python",
   "name": "python",
   "nbconvert_exporter": "python",
   "pygments_lexer": "ipython3",
   "version": "3.10.8"
  }
 },
 "nbformat": 4,
 "nbformat_minor": 5
}
